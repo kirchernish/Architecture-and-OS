{
 "cells": [
  {
   "cell_type": "code",
   "execution_count": 3,
   "id": "e3966dfb-2baa-4873-8e38-e2080c799bc8",
   "metadata": {},
   "outputs": [
    {
     "name": "stdout",
     "output_type": "stream",
     "text": [
      "[1] [1, 2] [2] [1, 3]\n"
     ]
    }
   ],
   "source": [
    "def solve_quadratic(m, n, c_val):\n",
    "    roots = []\n",
    "    x = 0\n",
    "    C = max(m, n)\n",
    "    while True:\n",
    "        val = x*x - m*x + n\n",
    "        if val == 0:\n",
    "            roots.append(x)\n",
    "        x += 1\n",
    "        if x > C:\n",
    "            break\n",
    "    return roots\n",
    "\n",
    "# 1st equation: x^2 - 2x + 1 = 0\n",
    "roots_1 = solve_quadratic(2, 1, None)\n",
    "\n",
    "# 2nd equation: x^2 - 3x + 2 = 0\n",
    "roots_2 = solve_quadratic(3, 2, None)\n",
    "\n",
    "# 3rd equation: x^2 - 4x + 4 = 0\n",
    "roots_3 = solve_quadratic(4, 4, None)\n",
    "\n",
    "# 4th equation: x^2 - 4x + 3 = 0\n",
    "roots_4 = solve_quadratic(4, 3, None)\n",
    "\n",
    "print(roots_1, roots_2, roots_3, roots_4)"
   ]
  },
  {
   "cell_type": "code",
   "execution_count": null,
   "id": "a4bdac1e-3e24-4ed2-81a7-4742fd8c7082",
   "metadata": {},
   "outputs": [],
   "source": [
    "    "
   ]
  }
 ],
 "metadata": {
  "kernelspec": {
   "display_name": "Python 3 (ipykernel)",
   "language": "python",
   "name": "python3"
  },
  "language_info": {
   "codemirror_mode": {
    "name": "ipython",
    "version": 3
   },
   "file_extension": ".py",
   "mimetype": "text/x-python",
   "name": "python",
   "nbconvert_exporter": "python",
   "pygments_lexer": "ipython3",
   "version": "3.14.0"
  }
 },
 "nbformat": 4,
 "nbformat_minor": 5
}
