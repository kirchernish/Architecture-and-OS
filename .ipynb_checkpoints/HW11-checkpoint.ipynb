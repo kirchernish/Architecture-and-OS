{
 "cells": [
  {
   "cell_type": "code",
   "execution_count": null,
   "id": "a9b0e07d-6685-458c-96b6-dcbc0e4a0ead",
   "metadata": {},
   "outputs": [],
   "source": [
    "import mmap\n",
    "import multiprocessing\n",
    "import time\n",
    "import os\n",
    "\n",
    "# Размер буфера общей памяти\n",
    "BUFFER_SIZE = 1024\n",
    "\n",
    "# Функция производителя\n",
    "def producer(shared_buffer):\n",
    "    # Записываем строку в общую память\n",
    "    message = \"Привет, это сообщение от производителя!\"\n",
    "    print(f\"Производитель: отправляю сообщение: {message.decode()}\")\n",
    "    \n",
    "    # Записываем данные в буфер\n",
    "    shared_buffer.seek(0)  # Устанавливаем указатель в начало\n",
    "    shared_buffer.write(message)\n",
    "    shared_buffer.flush()  # Очищаем буфер\n",
    "    \n",
    "    # Ждем немного, чтобы потребитель успел прочитать\n",
    "    time.sleep(1)\n",
    "\n",
    "# Функция потребителя\n",
    "def consumer(shared_buffer):\n",
    "    # Читаем данные из общей памяти\n",
    "    shared_buffer.seek(0)  # Устанавливаем указатель в начало\n",
    "    message = shared_buffer.read(BUFFER_SIZE).strip()\n",
    "    \n",
    "    # Выводим полученное сообщение\n",
    "    print(f\"Потребитель: получил сообщение: {message.decode()}\")\n",
    "\n",
    "if __name__ == \"__main__\":\n",
    "    # Создаем файл для общей памяти\n",
    "    with open(\"shared_memory.bin\", \"wb+\") as f:\n",
    "        # Создаем буфер общей памяти\n",
    "        shared_buffer = mmap.mmap(f.fileno(), BUFFER_SIZE, access=mmap.ACCESS_WRITE)\n",
    "        \n",
    "        # Создаем процессы\n",
    "        producer_process = multiprocessing.Process(target=producer, args=(shared_buffer,))\n",
    "        consumer_process = multiprocessing.Process(target=consumer, args=(shared_buffer,))\n",
    "        \n",
    "        try:\n",
    "            # Запускаем процессы\n",
    "            producer_process.start()\n",
    "            consumer_process.start()\n",
    "            \n",
    "            # Ждем завершения процессов\n",
    "            producer_process.join()\n",
    "            consumer_process.join()\n",
    "            \n",
    "        finally:\n",
    "            # Закрываем общую память\n",
    "            shared_buffer.close()\n",
    "            # Удаляем временный файл\n",
    "            os.remove(\"shared_memory.bin\")"
   ]
  }
 ],
 "metadata": {
  "kernelspec": {
   "display_name": "Python 3 (ipykernel)",
   "language": "python",
   "name": "python3"
  },
  "language_info": {
   "codemirror_mode": {
    "name": "ipython",
    "version": 3
   },
   "file_extension": ".py",
   "mimetype": "text/x-python",
   "name": "python",
   "nbconvert_exporter": "python",
   "pygments_lexer": "ipython3",
   "version": "3.14.0"
  }
 },
 "nbformat": 4,
 "nbformat_minor": 5
}
