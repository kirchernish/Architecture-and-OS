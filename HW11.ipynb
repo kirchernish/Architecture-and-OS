{
 "cells": [
  {
   "cell_type": "code",
   "execution_count": 2,
   "id": "ecd26106-d79b-4447-9efa-e208a79fbd5c",
   "metadata": {},
   "outputs": [
    {
     "ename": "PermissionError",
     "evalue": "[WinError 32] Процесс не может получить доступ к файлу, так как этот файл занят другим процессом: 'shared_memory.bin'",
     "output_type": "error",
     "traceback": [
      "\u001b[31m---------------------------------------------------------------------------\u001b[39m",
      "\u001b[31mTypeError\u001b[39m                                 Traceback (most recent call last)",
      "\u001b[36mCell\u001b[39m\u001b[36m \u001b[39m\u001b[32mIn[2]\u001b[39m\u001b[32m, line 44\u001b[39m\n\u001b[32m     42\u001b[39m \u001b[38;5;28;01mtry\u001b[39;00m:\n\u001b[32m     43\u001b[39m     \u001b[38;5;66;03m# Запускаем процессы\u001b[39;00m\n\u001b[32m---> \u001b[39m\u001b[32m44\u001b[39m     \u001b[43mproducer_process\u001b[49m\u001b[43m.\u001b[49m\u001b[43mstart\u001b[49m\u001b[43m(\u001b[49m\u001b[43m)\u001b[49m\n\u001b[32m     45\u001b[39m     consumer_process.start()\n",
      "\u001b[36mFile \u001b[39m\u001b[32m~\\AppData\\Local\\Programs\\Python\\Python314\\Lib\\multiprocessing\\process.py:121\u001b[39m, in \u001b[36mBaseProcess.start\u001b[39m\u001b[34m(self)\u001b[39m\n\u001b[32m    120\u001b[39m _cleanup()\n\u001b[32m--> \u001b[39m\u001b[32m121\u001b[39m \u001b[38;5;28mself\u001b[39m._popen = \u001b[38;5;28;43mself\u001b[39;49m\u001b[43m.\u001b[49m\u001b[43m_Popen\u001b[49m\u001b[43m(\u001b[49m\u001b[38;5;28;43mself\u001b[39;49m\u001b[43m)\u001b[49m\n\u001b[32m    122\u001b[39m \u001b[38;5;28mself\u001b[39m._sentinel = \u001b[38;5;28mself\u001b[39m._popen.sentinel\n",
      "\u001b[36mFile \u001b[39m\u001b[32m~\\AppData\\Local\\Programs\\Python\\Python314\\Lib\\multiprocessing\\context.py:224\u001b[39m, in \u001b[36mProcess._Popen\u001b[39m\u001b[34m(process_obj)\u001b[39m\n\u001b[32m    222\u001b[39m \u001b[38;5;129m@staticmethod\u001b[39m\n\u001b[32m    223\u001b[39m \u001b[38;5;28;01mdef\u001b[39;00m\u001b[38;5;250m \u001b[39m\u001b[34m_Popen\u001b[39m(process_obj):\n\u001b[32m--> \u001b[39m\u001b[32m224\u001b[39m     \u001b[38;5;28;01mreturn\u001b[39;00m \u001b[43m_default_context\u001b[49m\u001b[43m.\u001b[49m\u001b[43mget_context\u001b[49m\u001b[43m(\u001b[49m\u001b[43m)\u001b[49m\u001b[43m.\u001b[49m\u001b[43mProcess\u001b[49m\u001b[43m.\u001b[49m\u001b[43m_Popen\u001b[49m\u001b[43m(\u001b[49m\u001b[43mprocess_obj\u001b[49m\u001b[43m)\u001b[49m\n",
      "\u001b[36mFile \u001b[39m\u001b[32m~\\AppData\\Local\\Programs\\Python\\Python314\\Lib\\multiprocessing\\context.py:337\u001b[39m, in \u001b[36mSpawnProcess._Popen\u001b[39m\u001b[34m(process_obj)\u001b[39m\n\u001b[32m    336\u001b[39m \u001b[38;5;28;01mfrom\u001b[39;00m\u001b[38;5;250m \u001b[39m\u001b[34;01m.\u001b[39;00m\u001b[34;01mpopen_spawn_win32\u001b[39;00m\u001b[38;5;250m \u001b[39m\u001b[38;5;28;01mimport\u001b[39;00m Popen\n\u001b[32m--> \u001b[39m\u001b[32m337\u001b[39m \u001b[38;5;28;01mreturn\u001b[39;00m \u001b[43mPopen\u001b[49m\u001b[43m(\u001b[49m\u001b[43mprocess_obj\u001b[49m\u001b[43m)\u001b[49m\n",
      "\u001b[36mFile \u001b[39m\u001b[32m~\\AppData\\Local\\Programs\\Python\\Python314\\Lib\\multiprocessing\\popen_spawn_win32.py:97\u001b[39m, in \u001b[36mPopen.__init__\u001b[39m\u001b[34m(self, process_obj)\u001b[39m\n\u001b[32m     96\u001b[39m     reduction.dump(prep_data, to_child)\n\u001b[32m---> \u001b[39m\u001b[32m97\u001b[39m     \u001b[43mreduction\u001b[49m\u001b[43m.\u001b[49m\u001b[43mdump\u001b[49m\u001b[43m(\u001b[49m\u001b[43mprocess_obj\u001b[49m\u001b[43m,\u001b[49m\u001b[43m \u001b[49m\u001b[43mto_child\u001b[49m\u001b[43m)\u001b[49m\n\u001b[32m     98\u001b[39m \u001b[38;5;28;01mfinally\u001b[39;00m:\n",
      "\u001b[36mFile \u001b[39m\u001b[32m~\\AppData\\Local\\Programs\\Python\\Python314\\Lib\\multiprocessing\\reduction.py:60\u001b[39m, in \u001b[36mdump\u001b[39m\u001b[34m(obj, file, protocol)\u001b[39m\n\u001b[32m     59\u001b[39m \u001b[38;5;250m\u001b[39m\u001b[33;03m'''Replacement for pickle.dump() using ForkingPickler.'''\u001b[39;00m\n\u001b[32m---> \u001b[39m\u001b[32m60\u001b[39m \u001b[43mForkingPickler\u001b[49m\u001b[43m(\u001b[49m\u001b[43mfile\u001b[49m\u001b[43m,\u001b[49m\u001b[43m \u001b[49m\u001b[43mprotocol\u001b[49m\u001b[43m)\u001b[49m\u001b[43m.\u001b[49m\u001b[43mdump\u001b[49m\u001b[43m(\u001b[49m\u001b[43mobj\u001b[49m\u001b[43m)\u001b[49m\n",
      "\u001b[31mTypeError\u001b[39m: cannot pickle 'mmap.mmap' object",
      "when serializing tuple item 0",
      "when serializing dict item '_args'",
      "when serializing multiprocessing.context.Process state",
      "when serializing multiprocessing.context.Process object",
      "\nDuring handling of the above exception, another exception occurred:\n",
      "\u001b[31mPermissionError\u001b[39m                           Traceback (most recent call last)",
      "\u001b[36mCell\u001b[39m\u001b[36m \u001b[39m\u001b[32mIn[2]\u001b[39m\u001b[32m, line 55\u001b[39m\n\u001b[32m     53\u001b[39m shared_buffer.close()\n\u001b[32m     54\u001b[39m \u001b[38;5;66;03m# Удаляем временный файл\u001b[39;00m\n\u001b[32m---> \u001b[39m\u001b[32m55\u001b[39m \u001b[43mos\u001b[49m\u001b[43m.\u001b[49m\u001b[43mremove\u001b[49m\u001b[43m(\u001b[49m\u001b[33;43m\"\u001b[39;49m\u001b[33;43mshared_memory.bin\u001b[39;49m\u001b[33;43m\"\u001b[39;49m\u001b[43m)\u001b[49m\n",
      "\u001b[31mPermissionError\u001b[39m: [WinError 32] Процесс не может получить доступ к файлу, так как этот файл занят другим процессом: 'shared_memory.bin'"
     ]
    }
   ],
   "source": [
    "import mmap\n",
    "import multiprocessing\n",
    "import time\n",
    "import os\n",
    "\n",
    "# Размер буфера общей памяти\n",
    "BUFFER_SIZE = 1024\n",
    "\n",
    "# Функция производителя\n",
    "def producer(shared_buffer):\n",
    "    # Записываем строку в общую память\n",
    "    message = \"Привет, это сообщение от производителя!\"\n",
    "    print(f\"Производитель: отправляю сообщение: {message.decode()}\")\n",
    "    \n",
    "    # Записываем данные в буфер\n",
    "    shared_buffer.seek(0)  # Устанавливаем указатель в начало\n",
    "    shared_buffer.write(message)\n",
    "    shared_buffer.flush()  # Очищаем буфер\n",
    "    \n",
    "    # Ждем немного, чтобы потребитель успел прочитать\n",
    "    time.sleep(1)\n",
    "\n",
    "# Функция потребителя\n",
    "def consumer(shared_buffer):\n",
    "    # Читаем данные из общей памяти\n",
    "    shared_buffer.seek(0)  # Устанавливаем указатель в начало\n",
    "    message = shared_buffer.read(BUFFER_SIZE).strip()\n",
    "    \n",
    "    # Выводим полученное сообщение\n",
    "    print(f\"Потребитель: получил сообщение: {message.decode()}\")\n",
    "\n",
    "if __name__ == \"__main__\":\n",
    "    # Создаем файл для общей памяти\n",
    "    with open(\"shared_memory.bin\", \"wb+\") as f:\n",
    "        # Создаем буфер общей памяти\n",
    "        shared_buffer = mmap.mmap(f.fileno(), BUFFER_SIZE, access=mmap.ACCESS_WRITE)\n",
    "        \n",
    "        # Создаем процессы\n",
    "        producer_process = multiprocessing.Process(target=producer, args=(shared_buffer,))\n",
    "        consumer_process = multiprocessing.Process(target=consumer, args=(shared_buffer,))\n",
    "        \n",
    "        try:\n",
    "            # Запускаем процессы\n",
    "            producer_process.start()\n",
    "            consumer_process.start()\n",
    "            \n",
    "            # Ждем завершения процессов\n",
    "            producer_process.join()\n",
    "            consumer_process.join()\n",
    "            \n",
    "        finally:\n",
    "            # Закрываем общую память\n",
    "            shared_buffer.close()\n",
    "            # Удаляем временный файл\n",
    "            os.remove(\"shared_memory.bin\")"
   ]
  },
  {
   "cell_type": "code",
   "execution_count": null,
   "id": "a9b0e07d-6685-458c-96b6-dcbc0e4a0ead",
   "metadata": {},
   "outputs": [],
   "source": []
  }
 ],
 "metadata": {
  "kernelspec": {
   "display_name": "Python 3 (ipykernel)",
   "language": "python",
   "name": "python3"
  },
  "language_info": {
   "codemirror_mode": {
    "name": "ipython",
    "version": 3
   },
   "file_extension": ".py",
   "mimetype": "text/x-python",
   "name": "python",
   "nbconvert_exporter": "python",
   "pygments_lexer": "ipython3",
   "version": "3.14.0"
  }
 },
 "nbformat": 4,
 "nbformat_minor": 5
}
